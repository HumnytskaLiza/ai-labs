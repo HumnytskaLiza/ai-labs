{
  "cells": [
    {
      "attachments": {},
      "cell_type": "markdown",
      "metadata": {
        "id": "HXiPVw_feCSb"
      },
      "source": [
        "## Завдання на лабораторну работу №1\n",
        "\n",
        "В цій лабораторної роботі Вам буде запропоновано вирішити кілька завдань скориставшись засобами мови python. Рішення кожного завдання передбачає написання коду і демонстрація його працездатності на прикладах. За кожне вірно виконане завдання Ви отримуєте **1 бал**.\n",
        "\n",
        "**Роботи ідентифіковані як ІДЕНТИЧНІ одразу отримують 0 балів.**\n",
        "\n",
        "[зверніть увагу на типізацію функцій](https://docs.python.org/3/library/typing.html)\n",
        "\n",
        "```NB```: При написанні коду не забувайте видаляти ```pass```!"
      ]
    },
    {
      "attachments": {},
      "cell_type": "markdown",
      "metadata": {
        "id": "fwu84zLVneAT"
      },
      "source": [
        "**Don't cheat!**"
      ]
    },
    {
      "attachments": {},
      "cell_type": "markdown",
      "metadata": {
        "id": "IPQHbkSueCSf"
      },
      "source": [
        "Перед тим, як надіслати своє завдання на перевірку, вкажіть в назві файлу своє ім'я та прізвище!\n",
        "Наприклад: ```basic_ai_task1_python_ana_de.ipynb```"
      ]
    },
    {
      "attachments": {},
      "cell_type": "markdown",
      "metadata": {
        "id": "OE2qgEaeeCSg"
      },
      "source": [
        "(Done) Завдання 1: На вхід функція приймає рядок s. Функція повинна повернути True якщо рядок є паліндромом та False – в протилежному випадку.\n",
        "\n",
        "Наприклад: \n",
        "\n",
        "*   `is_palindrome(s='anade') -> False`\n",
        "*   `is_palindrome(s='ana') -> True`\n",
        "\n",
        "\n"
      ]
    },
    {
      "cell_type": "code",
      "execution_count": 55,
      "metadata": {
        "id": "Kkp_Eb1jeCSg"
      },
      "outputs": [
        {
          "name": "stdout",
          "output_type": "stream",
          "text": [
            "True\n",
            "False\n",
            "False\n",
            "True\n"
          ]
        }
      ],
      "source": [
        "def is_palindrome(s: str) -> bool:\n",
        "\n",
        "  isPalindrome = True\n",
        "\n",
        "  punctuation_list = [',', '.', ':', \";\", \"!\", \"?\"]\n",
        "  for p in punctuation_list:\n",
        "      if p in s:\n",
        "          processed_s = s.replace(p, \"\")\n",
        "  processed_s = s.replace(\" \", \"\").lower()\n",
        "\n",
        "  j = len(processed_s) - 1\n",
        "\n",
        "  for i in processed_s:\n",
        "    if i == processed_s[j]:\n",
        "      isPalindrome = True\n",
        "      j -= 1\n",
        "    else:\n",
        "      isPalindrome = False\n",
        "      break\n",
        "    \n",
        "  print(isPalindrome)\n",
        "\n",
        "is_palindrome(s='noon')\n",
        "is_palindrome(s='yelyzaveta')\n",
        "is_palindrome(s='palindrome')\n",
        "is_palindrome(s='Never odd or even')"
      ]
    },
    {
      "attachments": {},
      "cell_type": "markdown",
      "metadata": {
        "id": "IyJBIte7eCSh"
      },
      "source": [
        "(Done) Завдання 2: Розв’язати квадратне рівняння $ax^2+bx + c = 0$.  Напишіть функцію,яка приймає параметри квадратного рівняння, а повертає одне рішення або декілька.\n",
        "\n",
        "Наприклад:  \n",
        "\n",
        "\n",
        "```\n",
        "solve_quad(a=1, b=-2, c=1) -> 1  \n",
        "solve_quad(a=1, b=0, c=-1) -> (-1, 1)  \n",
        "solve_quad(a=0, b=2, c=-1) -> 0.5\n",
        "```\n",
        "\n",
        "\n",
        "\n",
        "\n",
        "\n",
        " "
      ]
    },
    {
      "cell_type": "code",
      "execution_count": 47,
      "metadata": {
        "id": "T-fCGsPjeCSh"
      },
      "outputs": [
        {
          "name": "stdout",
          "output_type": "stream",
          "text": [
            "1.0\n",
            "(1.0; -1.0)\n",
            "0.5\n",
            "(0.5; -5.0)\n",
            "-2.5\n",
            "Discriminant < 0. No solutions.\n",
            "-1.25\n",
            "(0.0; -10.0)\n"
          ]
        }
      ],
      "source": [
        "import math\n",
        "\n",
        "def solve_quad(a: float, b: float, c: float):\n",
        "\n",
        "  discriminant = math.pow(b, 2) - 4*a*c\n",
        "\n",
        "  if a == 0:\n",
        "      x1 = -c/b\n",
        "      print(x1)\n",
        "\n",
        "  elif discriminant < 0:\n",
        "    print(\"Discriminant < 0. No solutions.\")\n",
        "\n",
        "  elif discriminant == 0:\n",
        "      x1 = (-b) / (2*a)\n",
        "      print(x1)\n",
        "\n",
        "  else:\n",
        "    x1 = (-b + math.sqrt(discriminant)) / (2*a)\n",
        "    x2 = (-b - math.sqrt(discriminant)) / (2*a)\n",
        "    print(f\"({x1}; {x2})\")\n",
        "  \n",
        "solve_quad(a=1, b=-2, c=1)\n",
        "solve_quad(a=1, b=0, c=-1)\n",
        "solve_quad(a=0, b=2, c=-1)\n",
        "solve_quad(a=2, b=9, c=-5)\n",
        "solve_quad(a=4, b=20, c=25)\n",
        "solve_quad(a=4, b=20, c=35)\n",
        "solve_quad(a=0, b=20, c=25)\n",
        "solve_quad(a=2, b=20, c=0)"
      ]
    },
    {
      "attachments": {},
      "cell_type": "markdown",
      "metadata": {
        "id": "XTXSIYdYeCSh"
      },
      "source": [
        "Завдання 3: Реалізація функції merge. На вхід функція приймає 2 відсортованих масиви - `a` і `b`. Функція повинна повернути один відсортований масив, який містить всі елементи масивів `a` і `b`. \n",
        "\n",
        "Наприклад: `merge([1, 3, 3, 5], [3, 5, 5, 7]) -> [1, 3, 3, 3, 5, 5, 5, 7]`"
      ]
    },
    {
      "cell_type": "code",
      "execution_count": 76,
      "metadata": {
        "id": "nfXKB-nveCSh"
      },
      "outputs": [
        {
          "name": "stdout",
          "output_type": "stream",
          "text": [
            "[1, 3, 7, 9, 3, 5, 5, 7, 3, 3, 7, 9, 5, 5, 7, 5, 7, 9, 5, 7, 5, 7, 9, 7, 7, 7, 9]\n"
          ]
        }
      ],
      "source": [
        "from typing import List\n",
        "\n",
        "def merge(a: List[int], b: List[int]) -> List[int]:\n",
        "  merged_list = []\n",
        "\n",
        "  size_a = len(a)\n",
        "  size_b = len(b)\n",
        "  i, j = 0, 0\n",
        "\n",
        "  while i < size_a and j < size_b:\n",
        "    if a[i] < b[j]:\n",
        "      merged_list.append(a[i])\n",
        "      i += 1\n",
        "    elif a[i] == b[j]:\n",
        "      merged_list.append(a[i])\n",
        "      merged_list.append(b[j])\n",
        "      i += 1\n",
        "      j += 1\n",
        "      new_b = b.remove(b[j])\n",
        "    else:\n",
        "      merged_list.append(b[j])\n",
        "      new_b = b.remove(b[j])\n",
        "      j += 1\n",
        "  merged_list.append(new_b)\n",
        "  print(merged_list)\n",
        "\n",
        "  \n",
        "  # for elem_a in a:\n",
        "  #   for elem_b in b:\n",
        "  #     if elem_a < elem_b:\n",
        "  #       merged_list.append(elem_a)\n",
        "  #     elif elem_a == elem_b:\n",
        "  #       merged_list.append(elem_b)\n",
        "  #       b.remove(elem_b)\n",
        "  \n",
        "  # merged_list.append(b)\n",
        "  # print(merged_list)\n",
        "\n",
        "  # for elem_a, elem_b in zip(a, b):\n",
        "  #   print(f\"a: {elem_a}, b: {elem_b}\")\n",
        "  #   if elem_a < elem_b or elem_a == elem_b:\n",
        "  #     merged_list.append(elem_a)\n",
        "  #     merged_list.append(elem_b)\n",
        "  #   elif elem_a > elem_b:\n",
        "  #     merged_list.append(elem_b)\n",
        "  #     merged_list.append(elem_a)\n",
        "  # print(merged_list)\n",
        "\n",
        "merge([1, 3, 7, 9], [3, 5, 5, 7])"
      ]
    },
    {
      "attachments": {},
      "cell_type": "markdown",
      "metadata": {
        "id": "Z4zl4_cNeCSi"
      },
      "source": [
        "Завдання 4: Реалізація алгоритму [MergeSort](https://ru.wikipedia.org/wiki/%D0%A1%D0%BE%D1%80%D1%82%D0%B8%D1%80%D0%BE%D0%B2%D0%BA%D0%B0_%D1%81%D0%BB%D0%B8%D1%8F%D0%BD%D0%B8%D0%B5%D0%BC)..\n",
        "\n",
        "Наприклад: `MergeSort([3, 1, 3, 5]) -> [1, 3, 3, 5]`"
      ]
    },
    {
      "cell_type": "code",
      "execution_count": null,
      "metadata": {
        "id": "VhDE9sTyeCSi"
      },
      "outputs": [],
      "source": [
        "def MergeSort(L: List[int]) -> List[int]:\n",
        "  pass"
      ]
    },
    {
      "attachments": {},
      "cell_type": "markdown",
      "metadata": {
        "id": "oiEEW3IKeCSj"
      },
      "source": [
        "## Знайомство з numpy."
      ]
    },
    {
      "attachments": {},
      "cell_type": "markdown",
      "metadata": {
        "id": "eEtj358ceCSj"
      },
      "source": [
        "Всі завдання з цієї частини передбачають написання функції на мові Python, а так само приклади роботи цієї функції. При реалізації завдань потрібно використовувати методи з бібліотеки `numpy`. Рішення з циклами будуть оцінені в 0 балів.\n",
        "\n",
        "[базова документація](http://www.numpy.org)\n",
        "\n",
        "```NB```: Під матрицею розуміється двовимірний [numpy.array](https://docs.scipy.org/doc/numpy/reference/generated/numpy.array.html)\n",
        "\n",
        "Для підключення модуля скористайтеся наступним рядком. \n",
        "Використовуйте стандартне скорочення np."
      ]
    },
    {
      "cell_type": "code",
      "execution_count": 1,
      "metadata": {
        "id": "tpv_AzJzeCSj"
      },
      "outputs": [],
      "source": [
        "import numpy as np"
      ]
    },
    {
      "attachments": {},
      "cell_type": "markdown",
      "metadata": {
        "id": "syBtY_AReCSj"
      },
      "source": [
        "Cтворення одномірного і двомірного масивів методами numpy:"
      ]
    },
    {
      "cell_type": "code",
      "execution_count": null,
      "metadata": {
        "id": "yfm0zbHJeCSj",
        "outputId": "e896f45e-df10-4364-f796-10032bd467cd"
      },
      "outputs": [
        {
          "name": "stdout",
          "output_type": "stream",
          "text": [
            "[1. 2. 3.]\n"
          ]
        }
      ],
      "source": [
        "Ar1d = np.array([1, 2, 3], dtype=np.float64)\n",
        "print(Ar1d)"
      ]
    },
    {
      "cell_type": "code",
      "execution_count": null,
      "metadata": {
        "id": "NO1tV1fteCSk",
        "outputId": "59fedd1c-9b1b-43a9-a689-822c7efb3927"
      },
      "outputs": [
        {
          "name": "stdout",
          "output_type": "stream",
          "text": [
            "[[1. 2.]\n",
            " [3. 4.]]\n"
          ]
        }
      ],
      "source": [
        "Ar2d = np.array([[1, 2],\n",
        "                [3, 4]], dtype=np.float)\n",
        "print(Ar2d)"
      ]
    },
    {
      "attachments": {},
      "cell_type": "markdown",
      "metadata": {
        "id": "NZns18uoeCSk"
      },
      "source": [
        "(Done) Завдання 6: Написати функцію яка на вхід приймає 3 масиви – `X, Y, Z`. функція повертатиме `True` у випадку, коли вони рівні та `False` – якщо ні.\n",
        "\n",
        "Рекомендація до завдання: Не використовуйте оператор `==`"
      ]
    },
    {
      "cell_type": "code",
      "execution_count": 14,
      "metadata": {
        "id": "nzv5GOlqeCSl"
      },
      "outputs": [
        {
          "data": {
            "text/plain": [
              "True"
            ]
          },
          "execution_count": 14,
          "metadata": {},
          "output_type": "execute_result"
        }
      ],
      "source": [
        "def is_equal(X, Y, Z):\n",
        "    if np.array_equal(X,Y) and np.array_equal(X,Z):\n",
        "        return True\n",
        "    else:\n",
        "        return False\n",
        "\n",
        "Arr1 = np.array([0, 1, 2], dtype = np.float64)    \n",
        "Arr2 = np.array([0, 1, 2], dtype = np.float64)    \n",
        "Arr3 = np.array([0, 1, 2], dtype = np.float64)    \n",
        "\n",
        "is_equal(Arr1,Arr2, Arr3)"
      ]
    },
    {
      "attachments": {},
      "cell_type": "markdown",
      "metadata": {
        "id": "4vYN-bnIeCSl"
      },
      "source": [
        "(Done) Завдання 7: написати функцію, яка приймає на вході вектор рядок, а повертає вектор стовбець.\n",
        "\n",
        "Рекомендація до завдання: Забороняється використовувати операцію транспонування! Скористайтесь методом `reshape`."
      ]
    },
    {
      "cell_type": "code",
      "execution_count": 29,
      "metadata": {
        "id": "cwnufrdPeCSl"
      },
      "outputs": [
        {
          "name": "stdout",
          "output_type": "stream",
          "text": [
            "Old vector:\n",
            "[0. 1. 2. 3.]\n",
            "Reshaped vector:\n",
            "[[0.]\n",
            " [1.]\n",
            " [2.]\n",
            " [3.]]\n",
            "Old vector:\n",
            "[[0.]\n",
            " [1.]\n",
            " [2.]\n",
            " [3.]]\n",
            "Reshaped vector:\n",
            "[0. 1. 2. 3.]\n"
          ]
        }
      ],
      "source": [
        "def rot_vec(x):\n",
        "    shape = x.shape\n",
        "\n",
        "    if len(shape) == 1:\n",
        "        new_vector = np.reshape(x, (shape[0], 1))\n",
        "    else: \n",
        "        new_vector = np.reshape(x, (shape[0],))\n",
        "\n",
        "    print(f\"Old vector:\\n{x}\")\n",
        "    print(f\"Reshaped vector:\\n{new_vector}\")\n",
        "\n",
        "row_vector = np.array([0, 1, 2, 3], dtype = np.float64)\n",
        "column_vector = np.array([[0],[1],[2],[3]], dtype = np.float64)\n",
        "\n",
        "rot_vec(row_vector)\n",
        "rot_vec(column_vector)"
      ]
    },
    {
      "attachments": {},
      "cell_type": "markdown",
      "metadata": {
        "id": "uvi-JOAheCSl"
      },
      "source": [
        "(Done) Завдання 8: Написати функцію яка приймає на вхід двовимірний масив, а повертає масив з діагональними елементами цієї матриці. \n",
        "\n",
        "Наприклад: `[[1, 2], [3, 4]] -> [1 4]`"
      ]
    },
    {
      "cell_type": "code",
      "execution_count": 40,
      "metadata": {
        "id": "uBSPXOJkeCSl"
      },
      "outputs": [
        {
          "name": "stdout",
          "output_type": "stream",
          "text": [
            "[1. 0. 9.]\n"
          ]
        }
      ],
      "source": [
        "def get_diag(X):\n",
        "    diagonal_elems = np.diagonal(X)\n",
        "    return diagonal_elems\n",
        "\n",
        "Arr1 = np.array([[1, 0, 7], [3, 0, 8], [2, 2, 9]], dtype = np.float64)\n",
        "print(get_diag(Arr1))"
      ]
    },
    {
      "attachments": {},
      "cell_type": "markdown",
      "metadata": {
        "id": "PvwgIU1veCSm"
      },
      "source": [
        "(Done) Завдання 9: Написати функцію яка приймає на вхід двомірний масив, а повертає масив елементів які знаходяться на другорядній діагоналі. Приклад: `[[1, 2], [3, 4]] -> [2 3]`"
      ]
    },
    {
      "cell_type": "code",
      "execution_count": 44,
      "metadata": {
        "id": "zIRKjQofeCSm"
      },
      "outputs": [
        {
          "name": "stdout",
          "output_type": "stream",
          "text": [
            "[7. 0. 2.]\n"
          ]
        }
      ],
      "source": [
        "def sec_diag(X):\n",
        "    reversed_arr = np.fliplr(X)\n",
        "    diagonal_elems = np.diagonal(reversed_arr)\n",
        "    return diagonal_elems\n",
        "\n",
        "Arr1 = np.array([[1, 0, 7], [3, 0, 8], [2, 2, 9]], dtype = np.float64)\n",
        "print(sec_diag(Arr1))"
      ]
    },
    {
      "attachments": {},
      "cell_type": "markdown",
      "metadata": {
        "id": "TQ61tk7SeCSm"
      },
      "source": [
        "## Робота з бібліотекою pandas\n",
        "\n",
        "В наступній частині лабораторної роботи розглянемо бібліотеку pandas.\n",
        "Перед виконанням цієї частини необхідно завантажити датасет `titanic.csv`\n",
        "\n",
        "[основна документація цього розділу](https://pandas.pydata.org/)"
      ]
    },
    {
      "cell_type": "code",
      "execution_count": 32,
      "metadata": {
        "id": "Fbe_qcF0eCSm"
      },
      "outputs": [],
      "source": [
        "import pandas as pd\n",
        "\n",
        "# Завантажте датасет. Ознайомтесь з тим як це правильно зробити, уважно прочитавши документацію по функції pd.read_csv.\n",
        "# Зверніть особливу увагу на роздільники датасета. \n",
        "\n",
        "dataset = pd.read_csv('./titanic.csv')"
      ]
    },
    {
      "attachments": {},
      "cell_type": "markdown",
      "metadata": {
        "id": "qTxYBLWdeCSm"
      },
      "source": [
        "(Done) Завдання 10: Кого більше - чоловіків чи жінок?"
      ]
    },
    {
      "cell_type": "code",
      "execution_count": 26,
      "metadata": {
        "id": "58MgIBEleCSm"
      },
      "outputs": [
        {
          "data": {
            "text/html": [
              "<div>\n",
              "<style scoped>\n",
              "    .dataframe tbody tr th:only-of-type {\n",
              "        vertical-align: middle;\n",
              "    }\n",
              "\n",
              "    .dataframe tbody tr th {\n",
              "        vertical-align: top;\n",
              "    }\n",
              "\n",
              "    .dataframe thead th {\n",
              "        text-align: right;\n",
              "    }\n",
              "</style>\n",
              "<table border=\"1\" class=\"dataframe\">\n",
              "  <thead>\n",
              "    <tr style=\"text-align: right;\">\n",
              "      <th></th>\n",
              "      <th>Sex</th>\n",
              "    </tr>\n",
              "  </thead>\n",
              "  <tbody>\n",
              "    <tr>\n",
              "      <th>0</th>\n",
              "      <td>male</td>\n",
              "    </tr>\n",
              "    <tr>\n",
              "      <th>1</th>\n",
              "      <td>female</td>\n",
              "    </tr>\n",
              "    <tr>\n",
              "      <th>2</th>\n",
              "      <td>female</td>\n",
              "    </tr>\n",
              "    <tr>\n",
              "      <th>3</th>\n",
              "      <td>female</td>\n",
              "    </tr>\n",
              "    <tr>\n",
              "      <th>4</th>\n",
              "      <td>male</td>\n",
              "    </tr>\n",
              "    <tr>\n",
              "      <th>...</th>\n",
              "      <td>...</td>\n",
              "    </tr>\n",
              "    <tr>\n",
              "      <th>886</th>\n",
              "      <td>male</td>\n",
              "    </tr>\n",
              "    <tr>\n",
              "      <th>887</th>\n",
              "      <td>female</td>\n",
              "    </tr>\n",
              "    <tr>\n",
              "      <th>888</th>\n",
              "      <td>female</td>\n",
              "    </tr>\n",
              "    <tr>\n",
              "      <th>889</th>\n",
              "      <td>male</td>\n",
              "    </tr>\n",
              "    <tr>\n",
              "      <th>890</th>\n",
              "      <td>male</td>\n",
              "    </tr>\n",
              "  </tbody>\n",
              "</table>\n",
              "<p>891 rows × 1 columns</p>\n",
              "</div>"
            ],
            "text/plain": [
              "        Sex\n",
              "0      male\n",
              "1    female\n",
              "2    female\n",
              "3    female\n",
              "4      male\n",
              "..      ...\n",
              "886    male\n",
              "887  female\n",
              "888  female\n",
              "889    male\n",
              "890    male\n",
              "\n",
              "[891 rows x 1 columns]"
            ]
          },
          "metadata": {},
          "output_type": "display_data"
        },
        {
          "name": "stdout",
          "output_type": "stream",
          "text": [
            "There are more men (577)\n"
          ]
        }
      ],
      "source": [
        "df_all_people = dataset[[\"Sex\"]]\n",
        "display(df_all_people)\n",
        "\n",
        "female = df_all_people.value_counts()['female']\n",
        "male = df_all_people.value_counts()['male']\n",
        "\n",
        "if female > male:\n",
        "    print(f\"There are more women ({female})\")\n",
        "else:\n",
        "    print(f\"There are more men ({male})\")\n"
      ]
    },
    {
      "attachments": {},
      "cell_type": "markdown",
      "metadata": {
        "id": "ApLZCvNveCSm"
      },
      "source": [
        "(Done) Завдання 11: Виведіть наступні характеристики пасажирів: середній вік пасажирів, середній вік чоловіків, середній вік жінок, максимальний і мінімальний вік серед чоловіків і жінок."
      ]
    },
    {
      "cell_type": "code",
      "execution_count": 51,
      "metadata": {
        "id": "Sg59NcqLeCSn"
      },
      "outputs": [
        {
          "name": "stdout",
          "output_type": "stream",
          "text": [
            "Average age: 29.69911764705882\n",
            "Min age: 0.42\n",
            "Max age: 80.0\n",
            "\n",
            "Women average age: 27.915708812260537\n",
            "Women min age: 0.75\n",
            "Women max age: 63.0\n",
            "\n",
            "Men average age: 30.72664459161148\n",
            "Men min age: 0.42\n",
            "Men max age: 80.0\n"
          ]
        }
      ],
      "source": [
        "df_all_age = dataset[[\"Age\", \"Sex\"]].dropna()\n",
        "\n",
        "df_average_age = df_all_age[\"Age\"].mean()\n",
        "df_min_age = df_all_age[\"Age\"].min()\n",
        "df_max_age = df_all_age[\"Age\"].max()\n",
        "\n",
        "print(f\"Average age: {df_average_age}\")\n",
        "print(f\"Min age: {df_min_age}\")\n",
        "print(f\"Max age: {df_max_age}\")\n",
        "\n",
        "df_women = df_all_age[df_all_age[\"Sex\"] == 'female']\n",
        "\n",
        "df_women_age = df_women[\"Age\"].mean()\n",
        "df_women_min_age = df_women[\"Age\"].min()\n",
        "df_women_max_age = df_women[\"Age\"].max()\n",
        "\n",
        "df_men = df_all_age[df_all_age[\"Sex\"] == 'male']\n",
        "\n",
        "df_men_age = df_men[\"Age\"].mean()\n",
        "df_men_min_age = df_men[\"Age\"].min()\n",
        "df_men_max_age = df_men[\"Age\"].max()\n",
        "\n",
        "# display(df_women)\n",
        "# display(df_men)\n",
        "\n",
        "print(f\"\\nWomen average age: {df_women_age}\")\n",
        "print(f\"Women min age: {df_women_min_age}\")\n",
        "print(f\"Women max age: {df_women_max_age}\")\n",
        "\n",
        "print(f\"\\nMen average age: {df_men_age}\")\n",
        "print(f\"Men min age: {df_men_min_age}\")\n",
        "print(f\"Men max age: {df_men_max_age}\")"
      ]
    },
    {
      "attachments": {},
      "cell_type": "markdown",
      "metadata": {
        "id": "P5zkuX9VeCSn"
      },
      "source": [
        " ## Знайомство з бібліотекою matplotlib "
      ]
    },
    {
      "attachments": {},
      "cell_type": "markdown",
      "metadata": {
        "id": "cYyqxB4MeCSn"
      },
      "source": [
        "Для початку ознайомтесь з [документацією](https://matplotlib.org/)"
      ]
    },
    {
      "attachments": {},
      "cell_type": "markdown",
      "metadata": {
        "id": "pEt3gexreCSn"
      },
      "source": [
        "Завдання 12: Побудувати задані функції: \n",
        "\n",
        "$f_{1}(x) =  \\frac{sin(x)}{x}$\n",
        "\n",
        "$f_{2}(x) =  \\frac{cos(x)}{x^2 + 1}$\n",
        "\n",
        "$f_{3}(x) =  cos^2(x) - \\frac{sin(x)}{2}$  \n",
        "\n",
        "$f_{4}(x) =  cos(x)$  \n",
        "\n",
        "$f_{5}(x) =  \\frac{sin(x)}{x^2 + 1}$"
      ]
    },
    {
      "attachments": {},
      "cell_type": "markdown",
      "metadata": {
        "id": "WKoZNPOfJ_nC"
      },
      "source": [
        "зробити візуалізацію заданих функцій  "
      ]
    },
    {
      "cell_type": "code",
      "execution_count": 64,
      "metadata": {
        "id": "YVT6yXXqeCSn"
      },
      "outputs": [],
      "source": [
        "import numpy as np\n",
        "import math\n",
        "\n",
        "from matplotlib import pylab as plt\n",
        "%matplotlib inline"
      ]
    },
    {
      "cell_type": "code",
      "execution_count": 74,
      "metadata": {
        "id": "ki86Yt_XeCSo"
      },
      "outputs": [
        {
          "name": "stdout",
          "output_type": "stream",
          "text": [
            "0.45464871341284085\n",
            "-1.0\n"
          ]
        }
      ],
      "source": [
        "# function 1: sin(x)/x\n",
        "def get_func1(x):\n",
        "    result = np.sin(x) / x\n",
        "    return result\n",
        "\n",
        "# function 2: cos(x)/(x² + 1)\n",
        "def get_func2(x):\n",
        "    result = np.cos(x) / ((math.pow(x, 2)) + 1)\n",
        "    return result\n",
        "\n",
        "# function 3: cos²(x) - sin(x)/2\n",
        "def get_func3(x):\n",
        "    result = math.pow(np.cos(x), 2) - ((np.sin(x)) / 2)\n",
        "    return result\n",
        "\n",
        "# function 4: cos(x)\n",
        "def get_func4(x):\n",
        "    result = np.cos(x)\n",
        "    return result\n",
        "\n",
        "# function 5: sin(x)/(x² + 1)\n",
        "def get_func5(x):\n",
        "    result = np.sin(x) / ((math.pow(x, 2)) + 1)\n",
        "    return result\n",
        "\n",
        "print(get_func1(2))\n",
        "print(get_func4(np.pi))"
      ]
    },
    {
      "cell_type": "code",
      "execution_count": 85,
      "metadata": {
        "id": "70fOVYjJeCSo"
      },
      "outputs": [
        {
          "data": {
            "text/plain": [
              "[<matplotlib.lines.Line2D at 0x1d8661c0590>]"
            ]
          },
          "execution_count": 85,
          "metadata": {},
          "output_type": "execute_result"
        },
        {
          "data": {
            "image/png": "[encoded data removed]",
            "text/plain": [
              "<Figure size 640x480 with 1 Axes>"
            ]
          },
          "metadata": {},
          "output_type": "display_data"
        }
      ],
      "source": [
        "# function 1: sin(x)/x\n",
        "x = np.linspace(-np.pi, np.pi, 201)\n",
        "func1 = np.sin(x)/x\n",
        "plt.plot(x, func1)\n",
        "\n",
        "# function 2: cos(x)/(x² + 1)\n",
        "func2 = np.cos(x) / (x**2 + 1)\n",
        "plt.plot(x, func2)\n",
        "\n",
        "# function 3: cos²(x) - sin(x)/2\n",
        "func3 = np.cos(x)**2 - ((np.sin(x)) / 2)\n",
        "plt.plot(x, func3)\n",
        "\n",
        "# function 4: cos(x)\n",
        "func4 = np.cos(x)\n",
        "plt.plot(x, func4)\n",
        "\n",
        "# function 5: sin(x)/(x² + 1)\n",
        "func5 = np.sin(x) / (x**2 + 1)\n",
        "plt.plot(x, func5)\n"
      ]
    },
    {
      "attachments": {},
      "cell_type": "markdown",
      "metadata": {
        "id": "Tg-QmR-eeCSp"
      },
      "source": [
        "Завдання 13: Побудувати графік щільності розподілу випадкової змінної."
      ]
    },
    {
      "attachments": {},
      "cell_type": "markdown",
      "metadata": {
        "id": "fOxQ9EsYJ_nH"
      },
      "source": [
        "зробити візуалізації"
      ]
    },
    {
      "cell_type": "code",
      "execution_count": null,
      "metadata": {
        "id": "9Av3YD1NeCSp"
      },
      "outputs": [],
      "source": [
        "#code"
      ]
    },
    {
      "attachments": {},
      "cell_type": "markdown",
      "metadata": {
        "id": "Rd4OLxTjl1kj"
      },
      "source": [
        "**Кожне завдання лабораторної роботи оцінюється в 1 бал (за умов правильного виконання)!!!!**\n",
        "\n",
        "**Робота, яка ідентифікована як ПЛАГІАТ, буде оцінюватись в 0 балів!!!**\n",
        "\n",
        "**Вибірково виконані завдання оцінюватись не будуть!!!**"
      ]
    }
  ],
  "metadata": {
    "colab": {
      "collapsed_sections": [],
      "name": "task1_basic_ai_AD.ipynb",
      "provenance": []
    },
    "kernelspec": {
      "display_name": "Python 3",
      "language": "python",
      "name": "python3"
    },
    "language_info": {
      "codemirror_mode": {
        "name": "ipython",
        "version": 3
      },
      "file_extension": ".py",
      "mimetype": "text/x-python",
      "name": "python",
      "nbconvert_exporter": "python",
      "pygments_lexer": "ipython3",
      "version": "3.11.3"
    }
  },
  "nbformat": 4,
  "nbformat_minor": 0
}
